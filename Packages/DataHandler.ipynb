{
 "cells": [
  {
   "cell_type": "code",
   "execution_count": 7,
   "metadata": {},
   "outputs": [],
   "source": [
    "import glob\n",
    "import shutil\n",
    "import os\n",
    "import random\n",
    "from PIL import Image\n",
    "import matplotlib.pyplot as plt\n",
    "import numpy as np"
   ]
  },
  {
   "cell_type": "code",
   "execution_count": 2,
   "metadata": {},
   "outputs": [],
   "source": [
    "food_classes = ['bread','dairy_product','dessert','egg','fried_food','meat','noodles_pasta',\n",
    "               'rice','seafood','soup','vegetable']"
   ]
  },
  {
   "cell_type": "code",
   "execution_count": 19,
   "metadata": {},
   "outputs": [],
   "source": [
    "def split_data_into_class_folders(path_to_data,class_id):\n",
    "    imgs_paths = glob.glob(path_to_data + '*.jpg')\n",
    "    \n",
    "    for path in imgs_paths:\n",
    "        \n",
    "        basename = os.path.basename(path)\n",
    "        \n",
    "        if basename.startswith(str(class_id)+'_'):\n",
    "            \n",
    "            path_to_save = os.path.join(path_to_data,food_classes[class_id])\n",
    "            \n",
    "            if not os.path.isdir(path_to_save):\n",
    "                os.makedirs(path_to_save)\n",
    "                \n",
    "            shutil.move(path,path_to_save)"
   ]
  },
  {
   "cell_type": "code",
   "execution_count": 22,
   "metadata": {},
   "outputs": [],
   "source": [
    "path_to_train_data = 'C:/Users/eugur/Deep_Learning_Deployment/food-11/training'\n",
    "path_to_val_data = 'C:/Users/eugur/Deep_Learning_Deployment/food-11/validation'\n",
    "path_to_eval_data = 'C:/Users/eugur/Deep_Learning_Deployment/food-11/evaluation'"
   ]
  },
  {
   "cell_type": "code",
   "execution_count": 23,
   "metadata": {},
   "outputs": [],
   "source": [
    "for i in range(11):\n",
    "    split_data_into_class_folders(path_to_train_data,i)"
   ]
  },
  {
   "cell_type": "code",
   "execution_count": null,
   "metadata": {},
   "outputs": [],
   "source": []
  }
 ],
 "metadata": {
  "kernelspec": {
   "display_name": "Python 3",
   "language": "python",
   "name": "python3"
  },
  "language_info": {
   "codemirror_mode": {
    "name": "ipython",
    "version": 3
   },
   "file_extension": ".py",
   "mimetype": "text/x-python",
   "name": "python",
   "nbconvert_exporter": "python",
   "pygments_lexer": "ipython3",
   "version": "3.8.2"
  }
 },
 "nbformat": 4,
 "nbformat_minor": 4
}
